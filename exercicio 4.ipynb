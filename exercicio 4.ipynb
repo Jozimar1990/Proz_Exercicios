{
  "cells": [
    {
      "cell_type": "markdown",
      "metadata": {
        "colab_type": "text",
        "id": "view-in-github"
      },
      "source": [
        "<a href=\"https://colab.research.google.com/github/Jozimar1990/Proz_Exercicios/blob/main/exercicio1.ipynb\" target=\"_parent\"><img src=\"https://colab.research.google.com/assets/colab-badge.svg\" alt=\"Open In Colab\"/></a>"
      ]
    },
    {
      "cell_type": "markdown",
      "metadata": {
        "id": "gylUFBQoMhNU"
      },
      "source": [
        "Aula 10 - Desafios\n",
        "Reescreva seu código para que o usuário possa jogar novamente\n",
        "Reescreva seu código para que os números de vitórias e derrotas fiquem guardados na memória do programa"
      ]
    },
    {
      "cell_type": "code",
      "execution_count": null,
      "metadata": {
        "colab": {
          "base_uri": "https://localhost:8080/"
        },
        "id": "ZhEgb6gHIStM",
        "outputId": "b4a649eb-b836-4f28-ce98-a908ff0fa53c"
      },
      "outputs": [
        {
          "ename": "",
          "evalue": "",
          "output_type": "error",
          "traceback": [
            "\u001b[1;31mA execução de células com 'Python 3.12.4' requer o pacote ipykernel.\n",
            "\u001b[1;31mExecute o seguinte comando para instalar \"ipykernel\" no ambiente do Python. \n",
            "\u001b[1;31mComando: \"c:/Users/jozim/AppData/Local/Programs/Python/Python312/python.exe -m pip install ipykernel -U --user --force-reinstall\""
          ]
        }
      ],
      "source": [
        "from random import randint\n",
        "op = 1\n",
        "while op != 0:\n",
        "  try:\n",
        "    chute = int(input(\"Digite um número entre 0 e 100: \"))\n",
        "    if chute <0 or chute >100:\n",
        "      print(\"Número inválido\")\n",
        "    else:\n",
        "      num_da_sorte =  randint(0, 100)\n",
        "      print(f\"Você escolheu {chute}\")\n",
        "      print(f\"O número sorteado foi {num_da_sorte}\")\n",
        "      if chute == num_da_sorte:\n",
        "        tent = 6\n",
        "        print(\"Você acertou!\")\n",
        "      else:\n",
        "        tent += 1\n",
        "        #exercicio 2: Reescreva seu código para que, em caso de derrota, o jogador seja informado se o número alvo era maior ou menor que o chute\n",
        "        if chute > num_da_sorte:\n",
        "          print(\"Você errou! O número sorteado é menor\")\n",
        "        else:\n",
        "          print(\"Você errou! O número sorteado é maior\")\n",
        "  except ValueError:\n",
        "    print(\"Número inválido\")\n",
        "  finally:\n",
        "    print(f\"Tentativa {tent}\")"
      ]
    },
    {
      "cell_type": "code",
      "execution_count": null,
      "metadata": {
        "colab": {
          "base_uri": "https://localhost:8080/"
        },
        "id": "YSjM2_miVTNX",
        "outputId": "52208699-5622-48c4-dbe6-e7a5419de3b3"
      },
      "outputs": [
        {
          "ename": "",
          "evalue": "",
          "output_type": "error",
          "traceback": [
            "\u001b[1;31mA execução de células com 'Python 3.12.4' requer o pacote ipykernel.\n",
            "\u001b[1;31mExecute o seguinte comando para instalar \"ipykernel\" no ambiente do Python. \n",
            "\u001b[1;31mComando: \"c:/Users/jozim/AppData/Local/Programs/Python/Python312/python.exe -m pip install ipykernel -U --user --force-reinstall\""
          ]
        }
      ],
      "source": [
        "from random import randint\n",
        "tent = 1\n",
        "while tent <= 5:\n",
        "  try:\n",
        "    chute = int(input(\"Digite um número entre 0 e 100: \"))\n",
        "    if chute <0 or chute >100:\n",
        "      print(\"Número inválido\")\n",
        "    else:\n",
        "      num_da_sorte =  randint(0, 100)\n",
        "      print(f\"Você escolheu {chute}\")\n",
        "      print(f\"O número sorteado foi {num_da_sorte}\")\n",
        "      if chute == num_da_sorte:\n",
        "        tent = 6\n",
        "        print(\"Você acertou!\")\n",
        "      else:\n",
        "        #exercicio 2: Reescreva seu código para que, em caso de derrota, o jogador seja informado se o número alvo era maior ou menor que o chute\n",
        "        if chute > num_da_sorte:\n",
        "          print(\"Você errou! O número sorteado é menor\")\n",
        "        else:\n",
        "          print(\"Você errou! O número sorteado é maior\")\n",
        "  except ValueError:\n",
        "    print(\"Número inválido\")\n",
        "  finally:\n",
        "    try:\n",
        "      op = int(input(\"Deseja Continuar? 1 - SIM | 0 - NÃO\"))\n",
        "    except:\n",
        "      print(\"Opção Inválida! 1 - SIM | 0 - NÃO\")\n"
      ]
    }
  ],
  "metadata": {
    "colab": {
      "authorship_tag": "ABX9TyNf7rN11uj0E90v/vmoTiLg",
      "include_colab_link": true,
      "provenance": []
    },
    "kernelspec": {
      "display_name": "Python 3",
      "name": "python3"
    },
    "language_info": {
      "name": "python",
      "version": "3.12.4"
    }
  },
  "nbformat": 4,
  "nbformat_minor": 0
}
