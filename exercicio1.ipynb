{
  "nbformat": 4,
  "nbformat_minor": 0,
  "metadata": {
    "colab": {
      "provenance": [],
      "authorship_tag": "ABX9TyNf7rN11uj0E90v/vmoTiLg",
      "include_colab_link": true
    },
    "kernelspec": {
      "name": "python3",
      "display_name": "Python 3"
    },
    "language_info": {
      "name": "python"
    }
  },
  "cells": [
    {
      "cell_type": "markdown",
      "metadata": {
        "id": "view-in-github",
        "colab_type": "text"
      },
      "source": [
        "<a href=\"https://colab.research.google.com/github/Jozimar1990/Proz_Exercicios/blob/main/exercicio1.ipynb\" target=\"_parent\"><img src=\"https://colab.research.google.com/assets/colab-badge.svg\" alt=\"Open In Colab\"/></a>"
      ]
    },
    {
      "cell_type": "markdown",
      "source": [
        "Aula 10 - Exercício de revisão 1\n",
        "Usando o Google Colab ou Github, crie um protótipo de um jogo de adivinhação de números. Ele deve pedir ao jogador um número inteiro entre 0 e 100 e, se a entrada fornecida for válida, informar se o chute acertou o alvo"
      ],
      "metadata": {
        "id": "gylUFBQoMhNU"
      }
    },
    {
      "cell_type": "code",
      "execution_count": 15,
      "metadata": {
        "colab": {
          "base_uri": "https://localhost:8080/"
        },
        "id": "ZhEgb6gHIStM",
        "outputId": "b4a649eb-b836-4f28-ce98-a908ff0fa53c"
      },
      "outputs": [
        {
          "output_type": "stream",
          "name": "stdout",
          "text": [
            "Digite um número entre 0 e 100: 4\n",
            "Você escolheu 4\n",
            "O número sorteado foi 81\n",
            "Você errou! O número sorteado é maior\n"
          ]
        }
      ],
      "source": [
        "from random import randint\n",
        "tent = False\n",
        "while tent == False:\n",
        "  try:\n",
        "    chute = int(input(\"Digite um número entre 0 e 100: \"))\n",
        "    if chute <0 or chute >100:\n",
        "      print(\"Número inválido\")\n",
        "    else:\n",
        "      tent = True\n",
        "      num_da_sorte =  randint(0, 100)\n",
        "      print(f\"Você escolheu {chute}\")\n",
        "      print(f\"O número sorteado foi {num_da_sorte}\")\n",
        "      if chute == num_da_sorte:\n",
        "        print(\"Você acertou!\")\n",
        "      else:\n",
        "        #exercicio 2: Reescreva seu código para que, em caso de derrota, o jogador seja informado se o número alvo era maior ou menor que o chute\n",
        "        if chute > num_da_sorte:\n",
        "          print(\"Você errou! O número sorteado é menor\")\n",
        "        else:\n",
        "          print(\"Você errou! O número sorteado é maior\")\n",
        "  except ValueError:\n",
        "    print(\"Número inválido\")\n"
      ]
    },
    {
      "cell_type": "code",
      "source": [
        "from random import randint\n",
        "tent = 1\n",
        "while tent <= 5:\n",
        "  try:\n",
        "    chute = int(input(\"Digite um número entre 0 e 100: \"))\n",
        "    if chute <0 or chute >100:\n",
        "      print(\"Número inválido\")\n",
        "    else:\n",
        "      num_da_sorte =  randint(0, 100)\n",
        "      print(f\"Você escolheu {chute}\")\n",
        "      print(f\"O número sorteado foi {num_da_sorte}\")\n",
        "      if chute == num_da_sorte:\n",
        "        tent = 6\n",
        "        print(\"Você acertou!\")\n",
        "      else:\n",
        "        tent += 1\n",
        "        #exercicio 2: Reescreva seu código para que, em caso de derrota, o jogador seja informado se o número alvo era maior ou menor que o chute\n",
        "        if chute > num_da_sorte:\n",
        "          print(\"Você errou! O número sorteado é menor\")\n",
        "        else:\n",
        "          print(\"Você errou! O número sorteado é maior\")\n",
        "  except ValueError:\n",
        "    print(\"Número inválido\")\n",
        "  finally:\n",
        "    print(f\"Tentativa {tent}\")\n",
        ""
      ],
      "metadata": {
        "colab": {
          "base_uri": "https://localhost:8080/"
        },
        "id": "YSjM2_miVTNX",
        "outputId": "52208699-5622-48c4-dbe6-e7a5419de3b3"
      },
      "execution_count": 18,
      "outputs": [
        {
          "output_type": "stream",
          "name": "stdout",
          "text": [
            "Digite um número entre 0 e 100: -1\n",
            "Número inválido\n",
            "Tentativa 1\n",
            "Digite um número entre 0 e 100: 2\n",
            "Você escolheu 2\n",
            "O número sorteado foi 66\n",
            "Você errou! O número sorteado é maior\n",
            "Tentativa 2\n",
            "Digite um número entre 0 e 100: 4\n",
            "Você escolheu 4\n",
            "O número sorteado foi 8\n",
            "Você errou! O número sorteado é maior\n",
            "Tentativa 3\n",
            "Digite um número entre 0 e 100: 5\n",
            "Você escolheu 5\n",
            "O número sorteado foi 39\n",
            "Você errou! O número sorteado é maior\n",
            "Tentativa 4\n",
            "Digite um número entre 0 e 100: 2\n",
            "Você escolheu 2\n",
            "O número sorteado foi 52\n",
            "Você errou! O número sorteado é maior\n",
            "Tentativa 5\n",
            "Digite um número entre 0 e 100: w\n",
            "Número inválido\n",
            "Tentativa 5\n",
            "Digite um número entre 0 e 100: 88\n",
            "Você escolheu 88\n",
            "O número sorteado foi 66\n",
            "Você errou! O número sorteado é menor\n",
            "Tentativa 6\n"
          ]
        }
      ]
    }
  ]
}